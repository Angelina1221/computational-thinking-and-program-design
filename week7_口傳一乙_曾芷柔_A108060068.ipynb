{
  "nbformat": 4,
  "nbformat_minor": 0,
  "metadata": {
    "colab": {
      "name": "week7 口傳一乙 曾芷柔 A108060068",
      "provenance": [],
      "collapsed_sections": [],
      "authorship_tag": "ABX9TyP8pPT5y3RvzK0PIv4tHbfC",
      "include_colab_link": true
    },
    "kernelspec": {
      "name": "python3",
      "display_name": "Python 3"
    }
  },
  "cells": [
    {
      "cell_type": "markdown",
      "metadata": {
        "id": "view-in-github",
        "colab_type": "text"
      },
      "source": [
        "<a href=\"https://colab.research.google.com/github/Angelina1221/computational-thinking-and-program-design/blob/master/week7_%E5%8F%A3%E5%82%B3%E4%B8%80%E4%B9%99_%E6%9B%BE%E8%8A%B7%E6%9F%94_A108060068.ipynb\" target=\"_parent\"><img src=\"https://colab.research.google.com/assets/colab-badge.svg\" alt=\"Open In Colab\"/></a>"
      ]
    },
    {
      "cell_type": "code",
      "metadata": {
        "id": "aIoty6xhqDkh",
        "colab_type": "code",
        "colab": {
          "base_uri": "https://localhost:8080/",
          "height": 153
        },
        "outputId": "51b1912f-e143-4cb3-c4ca-0fdc08ef1557"
      },
      "source": [
        "Language='韓文'#語言\n",
        "TV_show='梨泰院class'#電視名稱\n",
        "Director='金成允'#導演\n",
        "Main_actor='朴敘俊'#男主角\n",
        "Main_actress='金多美'#女主角\n",
        "Release_year='2020'#上映時間\n",
        "Episode='16集'#集數\n",
        "Ratings='11.832%'#收視率\n",
        "print(Language)\n",
        "print(TV_show)\n",
        "print(Director)\n",
        "print(Main_actor)\n",
        "print(Main_actress)\n",
        "print(Release_year)\n",
        "print(Episode)\n",
        "print(Ratings)"
      ],
      "execution_count": 2,
      "outputs": [
        {
          "output_type": "stream",
          "text": [
            "韓文\n",
            "梨泰院class\n",
            "金成允\n",
            "朴敘俊\n",
            "金多美\n",
            "2020\n",
            "16集\n",
            "11.832%\n"
          ],
          "name": "stdout"
        }
      ]
    },
    {
      "cell_type": "code",
      "metadata": {
        "id": "3dm6-XU2tkqO",
        "colab_type": "code",
        "colab": {}
      },
      "source": [
        ""
      ],
      "execution_count": 0,
      "outputs": []
    }
  ]
}