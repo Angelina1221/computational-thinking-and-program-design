{
  "nbformat": 4,
  "nbformat_minor": 0,
  "metadata": {
    "colab": {
      "name": "WEEK10 A108060068曾芷柔",
      "provenance": [],
      "authorship_tag": "ABX9TyO+Nnc1T3rNlhvRPl3kMFvI",
      "include_colab_link": true
    },
    "kernelspec": {
      "name": "python3",
      "display_name": "Python 3"
    }
  },
  "cells": [
    {
      "cell_type": "markdown",
      "metadata": {
        "id": "view-in-github",
        "colab_type": "text"
      },
      "source": [
        "<a href=\"https://colab.research.google.com/github/Angelina1221/computational-thinking-and-program-design/blob/master/WEEK10_A108060068%E6%9B%BE%E8%8A%B7%E6%9F%94.ipynb\" target=\"_parent\"><img src=\"https://colab.research.google.com/assets/colab-badge.svg\" alt=\"Open In Colab\"/></a>"
      ]
    },
    {
      "cell_type": "code",
      "metadata": {
        "id": "kWfxX8866pre",
        "colab_type": "code",
        "colab": {
          "base_uri": "https://localhost:8080/",
          "height": 51
        },
        "outputId": "3e8f6b7a-9d23-469c-8622-519cc0f73166"
      },
      "source": [
        "h=(int(input(\"請輸入購買數量\")))\n",
        "一打=(h//12)\n",
        "未足一打=(h%12)\n",
        "總金額=(一打*200+未足一打*20)\n",
        "print(\"購買總金額為\",總金額)"
      ],
      "execution_count": 4,
      "outputs": [
        {
          "output_type": "stream",
          "text": [
            "請輸入購買數量72\n",
            "購買總金額為 1200\n"
          ],
          "name": "stdout"
        }
      ]
    },
    {
      "cell_type": "code",
      "metadata": {
        "id": "b7vpSpvp7abq",
        "colab_type": "code",
        "colab": {
          "base_uri": "https://localhost:8080/",
          "height": 102
        },
        "outputId": "e44bba23-e751-4188-80e2-786bab2a765b"
      },
      "source": [
        "第一次期中考成績=int(input(\"請輸入第一次期中考成績\"))\n",
        "第二次期中考成績=int(input(\"請輸入第二次期中考成績\"))\n",
        "期末考成績=int(input(\"請輸入期末考成績\"))\n",
        "加總=(第一次期中考成績+第二次期中考成績+期末考成績)\n",
        "平均=(第一次期中考成績+第二次期中考成績+期末考成績)//3\n",
        "print('分數加總為',加總)\n",
        "print('分數平均為',平均)"
      ],
      "execution_count": 5,
      "outputs": [
        {
          "output_type": "stream",
          "text": [
            "請輸入第一次期中考成績85\n",
            "請輸入第二次期中考成績78\n",
            "請輸入期末考成績81\n",
            "分數加總為 244\n",
            "分數平均為 81\n"
          ],
          "name": "stdout"
        }
      ]
    },
    {
      "cell_type": "code",
      "metadata": {
        "id": "CiSEdiXL859X",
        "colab_type": "code",
        "colab": {}
      },
      "source": [
        ""
      ],
      "execution_count": 0,
      "outputs": []
    }
  ]
}