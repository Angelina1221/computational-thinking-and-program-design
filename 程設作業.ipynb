{
  "nbformat": 4,
  "nbformat_minor": 0,
  "metadata": {
    "colab": {
      "name": "程設作業 ",
      "provenance": [],
      "authorship_tag": "ABX9TyN4WdDkC0W52S/h0E1Js6er",
      "include_colab_link": true
    },
    "kernelspec": {
      "name": "python3",
      "display_name": "Python 3"
    }
  },
  "cells": [
    {
      "cell_type": "markdown",
      "metadata": {
        "id": "view-in-github",
        "colab_type": "text"
      },
      "source": [
        "<a href=\"https://colab.research.google.com/github/Angelina1221/computational-thinking-and-program-design/blob/master/%E7%A8%8B%E8%A8%AD%E4%BD%9C%E6%A5%AD.ipynb\" target=\"_parent\"><img src=\"https://colab.research.google.com/assets/colab-badge.svg\" alt=\"Open In Colab\"/></a>"
      ]
    },
    {
      "cell_type": "code",
      "metadata": {
        "id": "iPv2Fh2jA773",
        "colab_type": "code",
        "colab": {
          "base_uri": "https://localhost:8080/",
          "height": 51
        },
        "outputId": "ac3a8a0c-48a0-487c-ffe2-375f494b1579"
      },
      "source": [
        "r=input(\"輸入半徑？\")\n",
        "r=int(r)\n",
        "area=3.14*(r*r)\n",
        "print(\"Area is\",area)"
      ],
      "execution_count": 1,
      "outputs": [
        {
          "output_type": "stream",
          "text": [
            "輸入半徑？10\n",
            "Area is 314.0\n"
          ],
          "name": "stdout"
        }
      ]
    },
    {
      "cell_type": "code",
      "metadata": {
        "id": "U-n46nV6CS-G",
        "colab_type": "code",
        "colab": {
          "base_uri": "https://localhost:8080/",
          "height": 85
        },
        "outputId": "92b5da58-3eb3-47dd-efef-765069e9cc80"
      },
      "source": [
        "C=input(\"輸入攝氏溫度？\")\n",
        "print(type(C))\n",
        "C=float(C)\n",
        "print(type(C))\n",
        "F=C+9/5+32\n",
        "print(F)"
      ],
      "execution_count": 2,
      "outputs": [
        {
          "output_type": "stream",
          "text": [
            "輸入攝氏溫度？70\n",
            "<class 'str'>\n",
            "<class 'float'>\n",
            "103.8\n"
          ],
          "name": "stdout"
        }
      ]
    },
    {
      "cell_type": "code",
      "metadata": {
        "id": "LgMhQMQ0DIyu",
        "colab_type": "code",
        "colab": {
          "base_uri": "https://localhost:8080/",
          "height": 85
        },
        "outputId": "e2ee2e28-388c-4e8c-f0a0-b40ede6949d2"
      },
      "source": [
        "A=int(input(\"請輸入上衣數量\"))\n",
        "B=int(input(\"請輸入褲子數量\"))\n",
        "C=int(input(\"請輸入背心數量\"))\n",
        "a=200*A\n",
        "b=250*B\n",
        "c=300*C\n",
        "總金額=a+b+c\n",
        "print('總金額為',總金額)"
      ],
      "execution_count": 3,
      "outputs": [
        {
          "output_type": "stream",
          "text": [
            "請輸入上衣數量10\n",
            "請輸入褲子數量15\n",
            "請輸入背心數量20\n",
            "總金額為 11750\n"
          ],
          "name": "stdout"
        }
      ]
    },
    {
      "cell_type": "code",
      "metadata": {
        "id": "P0bLHT9uEWbg",
        "colab_type": "code",
        "colab": {}
      },
      "source": [
        ""
      ],
      "execution_count": 0,
      "outputs": []
    }
  ]
}